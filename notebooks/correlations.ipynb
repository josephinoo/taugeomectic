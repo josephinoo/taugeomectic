{
 "cells": [
  {
   "cell_type": "code",
   "execution_count": 28,
   "id": "creative-roulette",
   "metadata": {},
   "outputs": [],
   "source": [
    "import pandas as pd\n",
    "import numpy as np\n",
    "import matplotlib.pyplot as plt"
   ]
  },
  {
   "cell_type": "code",
   "execution_count": 29,
   "id": "respected-motel",
   "metadata": {},
   "outputs": [],
   "source": [
    "document1=pd.read_csv(\"../datasets/porosity_0.9.csv\")\n",
    "document2=pd.read_csv(\"../datasets/porosity_0.85.csv\")\n",
    "document3=pd.read_csv(\"../datasets/porosity_0.8.csv\")\n",
    "document4=pd.read_csv(\"../datasets/porosity_0.75.csv\")\n",
    "document5=pd.read_csv(\"../datasets/porosity_0.7.csv\")\n",
    "document6=pd.read_csv(\"../datasets/porosity_0.65.csv\")\n",
    "document7=pd.read_csv(\"../datasets/porosity_0.6.csv\")\n",
    "document8=pd.read_csv(\"../datasets/porosity_0.55.csv\")\n",
    "document9=pd.read_csv(\"../datasets/porosity_0.5.csv\")\n",
    "document1.dropna(subset = [\"tortuosity\"], inplace=True)\n",
    "document2.dropna(subset = [\"tortuosity\"], inplace=True)\n",
    "document3.dropna(subset = [\"tortuosity\"], inplace=True)\n",
    "document4.dropna(subset = [\"tortuosity\"], inplace=True)\n",
    "document5.dropna(subset = [\"tortuosity\"], inplace=True)\n",
    "document6.dropna(subset = [\"tortuosity\"], inplace=True)\n",
    "document7.dropna(subset = [\"tortuosity\"], inplace=True)\n",
    "document8.dropna(subset = [\"tortuosity\"], inplace=True)\n",
    "document9.dropna(subset = [\"tortuosity\"], inplace=True)"
   ]
  },
  {
   "cell_type": "code",
   "execution_count": 30,
   "id": "military-convertible",
   "metadata": {},
   "outputs": [],
   "source": [
    "porosity=[0.50,0.55,0.60,0.65,0.70,0.75,0.80,0.85,0.90]"
   ]
  },
  {
   "cell_type": "code",
   "execution_count": 31,
   "id": "continent-concern",
   "metadata": {},
   "outputs": [],
   "source": [
    "tau=[np.mean(document9[\"tortuosity\"]),np.mean(document8[\"tortuosity\"]),\n",
    "     np.mean(document7[\"tortuosity\"]),np.mean(document6[\"tortuosity\"]),\n",
    "     np.mean(document5[\"tortuosity\"]),np.mean(document4[\"tortuosity\"]),\n",
    "     np.mean(document3[\"tortuosity\"]),np.mean(document2[\"tortuosity\"]),\n",
    "     np.mean(document1[\"tortuosity\"])]"
   ]
  },
  {
   "cell_type": "code",
   "execution_count": 32,
   "id": "weird-fluid",
   "metadata": {},
   "outputs": [
    {
     "data": {
      "text/plain": [
       "[1.3216851547838864,\n",
       " 1.2669109305487762,\n",
       " 1.2280281104940574,\n",
       " 1.1482489616125549,\n",
       " 1.1049579634010567,\n",
       " 1.0813129393955536,\n",
       " 1.0585150908058276,\n",
       " 1.0364567019135376,\n",
       " 1.0254402042645259]"
      ]
     },
     "execution_count": 32,
     "metadata": {},
     "output_type": "execute_result"
    }
   ],
   "source": [
    "tau"
   ]
  },
  {
   "cell_type": "code",
   "execution_count": 33,
   "id": "pregnant-governor",
   "metadata": {},
   "outputs": [
    {
     "data": {
      "image/png": "[encoded data removed]",
      "text/plain": [
       "<Figure size 432x288 with 1 Axes>"
      ]
     },
     "metadata": {
      "needs_background": "light"
     },
     "output_type": "display_data"
    }
   ],
   "source": [
    "plt.plot(porosity,tau)\n",
    "plt.grid()\n",
    "\n",
    "plt.title('Tortuosity  VS Porosity ')\n",
    "plt.xlabel('Porosity')\n",
    "plt.ylabel('Tortuosity')\n",
    "plt.show()"
   ]
  },
  {
   "cell_type": "code",
   "execution_count": 19,
   "id": "hydraulic-macintosh",
   "metadata": {},
   "outputs": [
    {
     "data": {
      "text/html": [
       "<div>\n",
       "<style scoped>\n",
       "    .dataframe tbody tr th:only-of-type {\n",
       "        vertical-align: middle;\n",
       "    }\n",
       "\n",
       "    .dataframe tbody tr th {\n",
       "        vertical-align: top;\n",
       "    }\n",
       "\n",
       "    .dataframe thead th {\n",
       "        text-align: right;\n",
       "    }\n",
       "</style>\n",
       "<table border=\"1\" class=\"dataframe\">\n",
       "  <thead>\n",
       "    <tr style=\"text-align: right;\">\n",
       "      <th></th>\n",
       "      <th>porosity</th>\n",
       "      <th>tortuosity</th>\n",
       "    </tr>\n",
       "  </thead>\n",
       "  <tbody>\n",
       "    <tr>\n",
       "      <th>0</th>\n",
       "      <td>0.5548</td>\n",
       "      <td>1.3212227781259704</td>\n",
       "    </tr>\n",
       "    <tr>\n",
       "      <th>1</th>\n",
       "      <td>0.55</td>\n",
       "      <td>1.2415840335468733</td>\n",
       "    </tr>\n",
       "    <tr>\n",
       "      <th>2</th>\n",
       "      <td>0.5636</td>\n",
       "      <td>1.2935476198481257</td>\n",
       "    </tr>\n",
       "    <tr>\n",
       "      <th>3</th>\n",
       "      <td>0.5636</td>\n",
       "      <td>1.2296375327151723</td>\n",
       "    </tr>\n",
       "    <tr>\n",
       "      <th>4</th>\n",
       "      <td>0.5412</td>\n",
       "      <td>1.2561640449066986</td>\n",
       "    </tr>\n",
       "    <tr>\n",
       "      <th>...</th>\n",
       "      <td>...</td>\n",
       "      <td>...</td>\n",
       "    </tr>\n",
       "    <tr>\n",
       "      <th>115</th>\n",
       "      <td>0.5408</td>\n",
       "      <td>1.0787038149115205</td>\n",
       "    </tr>\n",
       "    <tr>\n",
       "      <th>116</th>\n",
       "      <td>0.5496</td>\n",
       "      <td>1.1405977833982612</td>\n",
       "    </tr>\n",
       "    <tr>\n",
       "      <th>117</th>\n",
       "      <td>0.5296</td>\n",
       "      <td>1.1187355724849386</td>\n",
       "    </tr>\n",
       "    <tr>\n",
       "      <th>118</th>\n",
       "      <td>0.528</td>\n",
       "      <td>1.2129564178831844</td>\n",
       "    </tr>\n",
       "    <tr>\n",
       "      <th>119</th>\n",
       "      <td>0.5644</td>\n",
       "      <td>1.2091896608436057</td>\n",
       "    </tr>\n",
       "  </tbody>\n",
       "</table>\n",
       "<p>99 rows × 2 columns</p>\n",
       "</div>"
      ],
      "text/plain": [
       "    porosity          tortuosity\n",
       "0     0.5548  1.3212227781259704\n",
       "1       0.55  1.2415840335468733\n",
       "2     0.5636  1.2935476198481257\n",
       "3     0.5636  1.2296375327151723\n",
       "4     0.5412  1.2561640449066986\n",
       "..       ...                 ...\n",
       "115   0.5408  1.0787038149115205\n",
       "116   0.5496  1.1405977833982612\n",
       "117   0.5296  1.1187355724849386\n",
       "118    0.528  1.2129564178831844\n",
       "119   0.5644  1.2091896608436057\n",
       "\n",
       "[99 rows x 2 columns]"
      ]
     },
     "execution_count": 19,
     "metadata": {},
     "output_type": "execute_result"
    }
   ],
   "source": [
    "document8"
   ]
  },
  {
   "cell_type": "code",
   "execution_count": null,
   "id": "played-preparation",
   "metadata": {},
   "outputs": [],
   "source": [
    "np.mean(document1['tortuosity'])"
   ]
  }
 ],
 "metadata": {
  "kernelspec": {
   "display_name": "Python 3",
   "language": "python",
   "name": "python3"
  },
  "language_info": {
   "codemirror_mode": {
    "name": "ipython",
    "version": 3
   },
   "file_extension": ".py",
   "mimetype": "text/x-python",
   "name": "python",
   "nbconvert_exporter": "python",
   "pygments_lexer": "ipython3",
   "version": "3.7.9"
  }
 },
 "nbformat": 4,
 "nbformat_minor": 5
}
